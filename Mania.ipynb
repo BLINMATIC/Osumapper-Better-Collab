{
 "cells": [
  {
   "cell_type": "markdown",
   "metadata": {},
   "source": [
    "# Osumapper!Collab+ - Mania\n",
    "Please scroll to the very bottom of the notebook for documentation"
   ]
  },
  {
   "cell_type": "markdown",
   "metadata": {},
   "source": [
    "Note: This file is still a wip"
   ]
  },
  {
   "cell_type": "markdown",
   "metadata": {},
   "source": [
    "## Installation\n",
    "This block will install the neseccary files to work."
   ]
  },
  {
   "cell_type": "code",
   "execution_count": null,
   "metadata": {
    "vscode": {
     "languageId": "plaintext"
    }
   },
   "outputs": [],
   "source": [
    "%cd /content/\n",
    "!git clone https://github.com/kotritrona/osumapper.git\n",
    "%cd osumapper/v7.0\n",
    "!apt install -y ffmpeg\n",
    "!apt install -y nodejs\n",
    "!cp requirements_colab.txt requirements.txt\n",
    "!cp package_colab.json package.json\n",
    "!pip install -r requirements.txt\n",
    "!npm install"
   ]
  },
  {
   "cell_type": "markdown",
   "metadata": {},
   "source": [
    "# Code Block\n",
    "The main code block"
   ]
  },
  {
   "cell_type": "code",
   "execution_count": null,
   "metadata": {
    "vscode": {
     "languageId": "plaintext"
    }
   },
   "outputs": [],
   "source": [
    "from mania_setup_colab import *\n",
    "from google.colab import files\n",
    "from act_newmap_prep import *\n",
    "from mania_act_rhythm_calc import *\n",
    "from mania_act_final import *\n",
    "\n",
    "print(\"Please upload the map file:\")\n",
    "mapfile_upload = files.upload()\n",
    "print(\"Please upload the music file:\")\n",
    "music_upload = files.upload()\n",
    "select_model = input(\"Select model >> \")\n",
    "model_params = load_pretrained_model(select_model)\n",
    "nd = float(input(\"Enter the note density >> \"))\n",
    "step4_read_new_map(uploaded_osu_name)\n",
    "model = step5_load_model(model_file=model_params[\"rhythm_model\"])\n",
    "npz = step5_load_npz()\n",
    "params = step5_set_params(note_density=0.4, hold_favor=0.2, divisor_favor=[0] * divisor, hold_max_ticks=8, hold_min_return=1, rotate_mode=4)\n",
    "\n",
    "predictions = step5_predict_notes(model, npz, params)\n",
    "notes_each_key = step5_build_pattern(predictions, params, pattern_dataset=model_params[\"pattern_dataset\"])\n",
    "modding_params = model_params[\"modding\"]\n",
    "notes_each_key = mania_modding(notes_each_key, modding_params)\n",
    "notes, key_count = merge_objects_each_key(notes_each_key)\n",
    "saved_osu_name = step8_save_osu_mania_file(notes, key_count)\n",
    "files.download(saved_osu_name)\n",
    "input(\"Press enter to clean up.\")\n",
    "colab_clean_up(uploaded_osu_name)"
   ]
  },
  {
   "cell_type": "markdown",
   "metadata": {},
   "source": [
    "# Documentation\n",
    "## How to run\n",
    "After running the top (Installation) code block, run the bottom block.\n",
    "When running the bottom block, it will need.\n",
    "1) The beatmap file (.osu file)\n",
    "2) The audio file\n",
    "3) The training model\n",
    "### The Beatmap File\n",
    "The beatmap file needs to have the correct timings and offset before uploading.\n",
    "### The Audio File\n",
    "The music\n",
    "### The Training Model\n",
    "There are 3 training models. These are\n",
    "1) lowkey - Mania keys between 1 and 4\n",
    "2) highkey - Mania keys between 5 and 9"
   ]
  }
 ],
 "metadata": {
  "language_info": {
   "name": "python"
  }
 },
 "nbformat": 4,
 "nbformat_minor": 2
}
